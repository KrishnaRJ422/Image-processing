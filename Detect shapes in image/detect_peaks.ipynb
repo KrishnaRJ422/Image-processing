{
 "cells": [
  {
   "cell_type": "code",
   "execution_count": 41,
   "metadata": {},
   "outputs": [],
   "source": [
    "import numpy as np\n",
    "import cv2\n",
    "import pytesseract\n",
    "\n",
    "pytesseract.pytesseract.tesseract_cmd = 'C:/Program Files/Tesseract-OCR/tesseract'"
   ]
  },
  {
   "cell_type": "code",
   "execution_count": 42,
   "metadata": {},
   "outputs": [],
   "source": [
    "im = cv2.imread(\"Nickel_MF_m05.png\")"
   ]
  },
  {
   "cell_type": "code",
   "execution_count": 43,
   "metadata": {},
   "outputs": [],
   "source": [
    "imgray = cv2.cvtColor(im, cv2.COLOR_BGR2GRAY)"
   ]
  },
  {
   "cell_type": "code",
   "execution_count": 44,
   "metadata": {},
   "outputs": [
    {
     "name": "stdout",
     "output_type": "stream",
     "text": [
      "contours: (469,)\n"
     ]
    }
   ],
   "source": [
    "ret, thresh = cv2.threshold(imgray,127,255,  cv2.THRESH_BINARY)# + cv2.THRESH_OTSU)\n",
    " \n",
    "contours, hierarchy = cv2.findContours(thresh, cv2.RETR_TREE, cv2.CHAIN_APPROX_NONE)\n",
    " \n",
    "print(\"contours:\",np.shape(contours))\n",
    "# (579,)\n",
    "# draw contours\n",
    "\n",
    "cont_img = cv2.drawContours(im, contours, -1, (0,255,0), 1)\n",
    " "
   ]
  },
  {
   "cell_type": "code",
   "execution_count": 45,
   "metadata": {},
   "outputs": [
    {
     "name": "stdout",
     "output_type": "stream",
     "text": [
      "{'m00': 4.0, 'm10': 4660.0, 'm01': 3768.0, 'm20': 5428901.333333333, 'm11': 4389720.0, 'm02': 3549457.333333333, 'm30': 6324673160.0, 'm21': 5114025056.0, 'm12': 4135117793.3333335, 'm03': 3343591320.0, 'mu20': 1.3333333330228925, 'mu11': 0.0, 'mu02': 1.3333333330228925, 'mu30': 9.5367431640625e-07, 'mu21': 2.9243528842926025e-07, 'mu12': 5.206093192100525e-07, 'mu03': 9.5367431640625e-07, 'nu20': 0.08333333331393078, 'nu11': 0.0, 'nu02': 0.08333333331393078, 'nu30': 2.9802322387695312e-08, 'nu21': 9.138602763414383e-09, 'nu12': 1.626904122531414e-08, 'nu03': 2.9802322387695312e-08}\n"
     ]
    }
   ],
   "source": [
    " \n",
    "# Calculate the distance of the image\n",
    "cnt = contours[0]\n",
    "M = cv2.moments(cnt)\n",
    "print(M)\n",
    " \n",
    " # # Calculate the center of gravity\n",
    "cx = int(M['m10']/M['m00'])\n",
    "cy = int(M['m01']/M['m00'])"
   ]
  },
  {
   "cell_type": "code",
   "execution_count": 46,
   "metadata": {},
   "outputs": [
    {
     "name": "stdout",
     "output_type": "stream",
     "text": [
      "4.0\n"
     ]
    }
   ],
   "source": [
    " \n",
    " # Calculate area\n",
    "area = cv2.contourArea(cnt)\n",
    "print(area)"
   ]
  },
  {
   "cell_type": "code",
   "execution_count": 47,
   "metadata": {},
   "outputs": [
    {
     "name": "stdout",
     "output_type": "stream",
     "text": [
      "8.0\n"
     ]
    }
   ],
   "source": [
    " \n",
    " # Calculate perimeter\n",
    "perimeter = cv2.arcLength(cnt,True)\n",
    "print(perimeter)"
   ]
  },
  {
   "cell_type": "code",
   "execution_count": 48,
   "metadata": {},
   "outputs": [
    {
     "name": "stdout",
     "output_type": "stream",
     "text": [
      "469\n"
     ]
    }
   ],
   "source": [
    "print(len(contours))"
   ]
  },
  {
   "cell_type": "code",
   "execution_count": 49,
   "metadata": {},
   "outputs": [
    {
     "name": "stdout",
     "output_type": "stream",
     "text": [
      "293\n"
     ]
    }
   ],
   "source": [
    "s1 = 0\n",
    "s2 =100000\n",
    "xcnts = []\n",
    "  \n",
    "for cnt in contours:\n",
    "    if s1 < cv2.contourArea(cnt)  :\n",
    "        xcnts.append(cnt)\n",
    "obs=len(xcnts)\n",
    "print(obs)"
   ]
  },
  {
   "cell_type": "code",
   "execution_count": 50,
   "metadata": {},
   "outputs": [],
   "source": [
    "# plot image\n",
    "cv2.imshow(\"Contour Image Info: peak count is \"+ str(obs) +   \" area:\"+ str(area) +\" length : %.2f \"% (perimeter) , im)\n",
    " \n",
    "\n",
    "# wait\n",
    "cv2.waitKey(0)\n",
    "cv2.destroyAllWindows()\n",
    " "
   ]
  },
  {
   "cell_type": "markdown",
   "metadata": {},
   "source": [
    "*****"
   ]
  },
  {
   "cell_type": "code",
   "execution_count": 11,
   "metadata": {},
   "outputs": [],
   "source": [
    "#heatmap = cv2.applyColorMap(im, cv2.COLORMAP_HOT)\n",
    "\n",
    "#cv2.imshow('heatmap', heatmap)\n",
    "#cv2.waitKey()"
   ]
  },
  {
   "cell_type": "code",
   "execution_count": null,
   "metadata": {},
   "outputs": [],
   "source": []
  },
  {
   "cell_type": "code",
   "execution_count": 12,
   "metadata": {},
   "outputs": [],
   "source": [
    "#kernel = np.ones((2,2),np.uint8)\n",
    "#gray = cv2.cvtColor(im, cv2.COLOR_BGR2GRAY)\n",
    "#gray = cv2.GaussianBlur(gray, (7, 7), 0)\n",
    "#gray= cv2.medianBlur(gray, 3)   #to remove salt and paper noise\n",
    "#to binary\n",
    "#ret,thresh = cv2.threshold(gray,127,255,0)  #to detect white objects\n",
    "#to get outer boundery only     \n",
    "#thresh = cv2.morphologyEx(thresh, cv2.MORPH_GRADIENT, kernel)\n",
    "#to strength weak pixels\n",
    "#thresh = cv2.dilate(thresh,kernel,iterations = 8)\n",
    "    \n",
    "# Display the resulting frame\n",
    "#cv2.imshow('frame',thresh)\n",
    " \n",
    "\n",
    "# wait\n",
    "#cv2.waitKey(0)\n",
    "#cv2.destroyAllWindows()\n",
    " "
   ]
  },
  {
   "cell_type": "code",
   "execution_count": null,
   "metadata": {},
   "outputs": [],
   "source": []
  }
 ],
 "metadata": {
  "kernelspec": {
   "display_name": "Python 3",
   "language": "python",
   "name": "python3"
  },
  "language_info": {
   "codemirror_mode": {
    "name": "ipython",
    "version": 3
   },
   "file_extension": ".py",
   "mimetype": "text/x-python",
   "name": "python",
   "nbconvert_exporter": "python",
   "pygments_lexer": "ipython3",
   "version": "3.7.4"
  }
 },
 "nbformat": 4,
 "nbformat_minor": 2
}
