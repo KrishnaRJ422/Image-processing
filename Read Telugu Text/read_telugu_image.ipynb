{
 "cells": [
  {
   "cell_type": "code",
   "execution_count": 10,
   "metadata": {},
   "outputs": [
    {
     "name": "stdout",
     "output_type": "stream",
     "text": [
      "రాజమండ్రి శ్రీ పురాణపండ రాధాకృష్ణమూర్తి గారి\n",
      "\n",
      "శ్రీరామరక్షాస్తోత్ర౦, శివసోత్రమలు,\n",
      "దేవీఖగ్గమారి, 'ఆష్టేత్తర శతగాయతి త్రి మంత్రములతో\n",
      "\n",
      " \n",
      "\f",
      "\n"
     ]
    }
   ],
   "source": [
    "import cv2\n",
    "import pytesseract\n",
    "pytesseract.pytesseract.tesseract_cmd = 'C:/Program Files/Tesseract-OCR/tesseract'\n",
    "from PIL import Image\n",
    "img=Image.open(\"lalitha sahasranamam.jpg\")\n",
    "tex=pytesseract.image_to_string(img,lang=\"tel\")\n",
    "print(tex)"
   ]
  },
  {
   "cell_type": "code",
   "execution_count": null,
   "metadata": {},
   "outputs": [],
   "source": []
  }
 ],
 "metadata": {
  "kernelspec": {
   "display_name": "Python 3",
   "language": "python",
   "name": "python3"
  },
  "language_info": {
   "codemirror_mode": {
    "name": "ipython",
    "version": 3
   },
   "file_extension": ".py",
   "mimetype": "text/x-python",
   "name": "python",
   "nbconvert_exporter": "python",
   "pygments_lexer": "ipython3",
   "version": "3.7.4"
  }
 },
 "nbformat": 4,
 "nbformat_minor": 2
}
