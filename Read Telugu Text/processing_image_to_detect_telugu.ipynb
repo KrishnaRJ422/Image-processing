{
 "cells": [
  {
   "cell_type": "code",
   "execution_count": 301,
   "metadata": {},
   "outputs": [],
   "source": [
    "import cv2\n",
    "import pytesseract\n",
    "import numpy as np\n",
    "pytesseract.pytesseract.tesseract_cmd = 'C:/Program Files/Tesseract-OCR/tesseract'\n",
    "from PIL import Image\n",
    "img=cv2.imread(\"lalitha sahasranamam.jpg\")\n",
    "imgS = cv2.resize(img, (800, 600))    \n",
    "cv2.imshow('image',imgS)\n",
    "cv2.waitKey(0)\n",
    "cv2.destroyAllWindows()"
   ]
  },
  {
   "cell_type": "code",
   "execution_count": 302,
   "metadata": {},
   "outputs": [],
   "source": [
    "gray = cv2.cvtColor(img, cv2.COLOR_BGR2GRAY)\n",
    "kernel = np.ones((1,1), np.uint8)\n",
    "img_dil=cv2.dilate(gray, kernel, iterations=5)\n",
    "img_close= cv2.morphologyEx(img_dil, cv.MORPH_OPEN, kernel)\n",
    "imgS = cv2.resize(img_dil, (800, 600))    \n",
    "cv2.imshow('image',imgS)\n",
    "cv2.waitKey(0)\n",
    "cv2.destroyAllWindows()"
   ]
  },
  {
   "cell_type": "code",
   "execution_count": 303,
   "metadata": {},
   "outputs": [],
   "source": [
    "thresh = cv2.threshold(img_dil, 127, 255, cv2.THRESH_BINARY )[1]\n",
    "img_th = cv2.resize(thresh, (800, 600))    \n",
    "cv2.imshow('image',img_th)\n",
    "cv2.waitKey(0)\n",
    "cv2.destroyAllWindows()"
   ]
  },
  {
   "cell_type": "code",
   "execution_count": 304,
   "metadata": {},
   "outputs": [
    {
     "name": "stdout",
     "output_type": "stream",
     "text": [
      "రాజమండ్రి శ్రీపురాణపందడ రాధాకృష్ణమూర్తి గారి\n",
      "శ్రీలలితా, విషు సహస్రనామ స్వోత్రములు\n",
      "\n",
      "తురామరక్షాస్తోత్రం, ఆవసప్తోత్రములు,\n",
      "దేవఖడ్గమాల, అష్టాత్తర శతరాయత్రై మంత్రములతో\n",
      "\n",
      " \n",
      "\n",
      "   \n",
      "\n",
      " \n",
      "\n",
      " \n",
      "\n",
      " \n",
      "\n",
      " \n",
      "\n",
      "అత్యధిక స్తోత్రములతో “చిరకాలంగా” వెలువడుతున్న “గొల్లపూడి” వారి ప్రచురణ\n",
      "\n",
      " \n",
      "\f",
      "\n"
     ]
    }
   ],
   "source": [
    "tex=pytesseract.image_to_string(img_th,lang=\"tel\")\n",
    "print(tex)"
   ]
  },
  {
   "cell_type": "markdown",
   "metadata": {},
   "source": [
    "##### "
   ]
  }
 ],
 "metadata": {
  "kernelspec": {
   "display_name": "Python 3",
   "language": "python",
   "name": "python3"
  },
  "language_info": {
   "codemirror_mode": {
    "name": "ipython",
    "version": 3
   },
   "file_extension": ".py",
   "mimetype": "text/x-python",
   "name": "python",
   "nbconvert_exporter": "python",
   "pygments_lexer": "ipython3",
   "version": "3.7.4"
  }
 },
 "nbformat": 4,
 "nbformat_minor": 2
}
